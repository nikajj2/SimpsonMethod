{
  "nbformat": 4,
  "nbformat_minor": 0,
  "metadata": {
    "colab": {
      "provenance": []
    },
    "kernelspec": {
      "name": "python3",
      "display_name": "Python 3"
    },
    "language_info": {
      "name": "python"
    }
  },
  "cells": [
    {
      "cell_type": "code",
      "execution_count": 1,
      "metadata": {
        "id": "_ueHD1yx_RfF"
      },
      "outputs": [],
      "source": [
        "import math\n",
        "a=0.8\n",
        "b=4\n",
        "epsilon=pow(10,(-10))"
      ]
    },
    {
      "cell_type": "code",
      "source": [
        "# Find the value of f(x)=(85/x^2)sin(9/x)\n",
        "def f(x):\n",
        "  fx=(85*math.sin(9/x))/(x*x)\n",
        "  return (fx)"
      ],
      "metadata": {
        "id": "-cXm5EgpFXYT"
      },
      "execution_count": 2,
      "outputs": []
    },
    {
      "cell_type": "code",
      "source": [
        "#The integral of the function is: I=(85*cos(9/x))/9\n",
        "#This function finds the integral from a to b\n",
        "def integral(a,b):\n",
        "  fa=(85*math.cos(9/a))/9\n",
        "  fb=(85*math.cos(9/b))/9\n",
        "  I=fb-fa\n",
        "  return I\n"
      ],
      "metadata": {
        "id": "HX8ALEuoHTje"
      },
      "execution_count": 3,
      "outputs": []
    },
    {
      "cell_type": "code",
      "source": [
        "def SimpsonMethod(a, b, epsilon):\n",
        "\n",
        "    h=(b-a)/2 #apply Simpson's formula with a step size of h\n",
        "    S1=(h/3)*(f(a)+4*f(a+h)+f(b)) #Simpson's rule approximation\n",
        "\n",
        "    #we determine the accuracy of this approximation by dividing\n",
        "    #the interval from a to b in half and again applying Simpson's rule.\n",
        "    #print(1)\n",
        "    Sright=(h/6)*(f(a+h)+4*f(a+(3*h/2))+f(b))\n",
        "    Sleft=(h/6)*(f(a)+4*f(a+(h/2))+f(a+h))\n",
        "    if (abs(S1-(Sleft+Sright))<15*epsilon):  #condition\n",
        "      return Sleft+Sright+(Sleft+Sright-S1)/15\n",
        "\n",
        "    leftSimpson=SimpsonMethod(a, (a+b)/2, epsilon)\n",
        "    rightSimpson=SimpsonMethod((a+b)/2, b, epsilon)\n",
        "    return leftSimpson+rightSimpson\n"
      ],
      "metadata": {
        "id": "r0TLbzIVQCLe"
      },
      "execution_count": 4,
      "outputs": []
    },
    {
      "cell_type": "code",
      "source": [
        "from re import A\n",
        "from os import access\n",
        "print(\"Integra calculated using the Adaptive Quadrature based on Simpson’s Method is :\")\n",
        "print(SimpsonMethod(a,b, epsilon))\n",
        "print(\"The value of the integral is:\")\n",
        "print(integral(a,b))\n",
        "print(\"The error is:\")\n",
        "error=abs(integral(a,b)-SimpsonMethod(a,b, epsilon))\n",
        "print(error)\n",
        "print(\"Accurency\",100*(1- error/abs(integral(a,b))), \"%\")"
      ],
      "metadata": {
        "colab": {
          "base_uri": "https://localhost:8080/"
        },
        "id": "gV0uAH4kVKzf",
        "outputId": "cfcaec47-22ad-4f43-8011-add8cd2d1bb2"
      },
      "execution_count": 5,
      "outputs": [
        {
          "output_type": "stream",
          "name": "stdout",
          "text": [
            "Integra calculated using the Adaptive Quadrature based on Simpson’s Method is :\n",
            "-8.309819798614745\n",
            "The value of the integral is:\n",
            "-8.309819798614662\n",
            "The error is:\n",
            "8.348877145181177e-14\n",
            "Accurency 99.999999999999 %\n"
          ]
        }
      ]
    },
    {
      "cell_type": "code",
      "source": [
        "#Simpson's method is a numerical method for approximating the definite\n",
        "#integral of a function. It is a technique that uses quadratic interpolation\n",
        "# to estimate the area under the curve of a function.\n",
        "#The method works by dividing the area under the curve into a series of\n",
        "#equal-width subintervals and approximating the area of each subinterval\n",
        "# with a quadratic function that passes through the endpoints of the interval\n",
        "#and the midpoint. We keep dividing into subintervals until the desired degree\n",
        "# of accuracy has been obtained.  The sum of these approximations gives an estimate\n",
        "#of the total area under the curve.\n",
        "#The formula for Simpson's method can be expressed as:\n",
        "#. ∫a b f(x)dx ≈ h/3 [f(a) + 4f(a+h) + f(b)]\n",
        "#where h is the width of each subinterval (h=(a+b)/2),\n",
        "# a is the lower limit of integration, b is the upper limit of integration,\n",
        "#and f(x) is the function being integrated.\n",
        "#Simpson's method is a very accurate method of numerical integration.\n",
        "#In general, Simpson's rule is more accurate than the Composite Trapezoidal Rule,\n",
        "#but it requires more function evaluations per interval. Newton-Cotes formulas,\n",
        "#on the other hand, can be more accurate than either method, but they also require\n",
        "# more function evaluations.\n"
      ],
      "metadata": {
        "id": "V1qe5Z4h4J6i"
      },
      "execution_count": null,
      "outputs": []
    }
  ]
}